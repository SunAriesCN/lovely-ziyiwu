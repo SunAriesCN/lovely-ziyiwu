{
 "cells": [
  {
   "cell_type": "code",
   "execution_count": 4,
   "metadata": {},
   "outputs": [
    {
     "name": "stdout",
     "output_type": "stream",
     "text": [
      "('mongolian lamb sheep', 20)\n",
      "('mohair tibetan penny', 20)\n",
      "('wool lane rock gypsy', 20)\n",
      "('Sloppy ghetto artist', 20)\n",
      "('punk wild Y2K gritty', 20)\n",
      "('west bohemian grunge', 20)\n",
      "('folk hippie upcycled', 20)\n",
      "('artisanal boho artsy', 20)\n",
      "('alternative club mod', 20)\n",
      "('remade kids moschino', 20)\n",
      "('hipster Marques raw', 19)\n",
      "('Almeida', 7)\n"
     ]
    }
   ],
   "source": [
    "WORDS= \"mongolian lamb wool mohair sheep tibetan penny \\\n",
    "lane Sloppy rock punk wild west gypsy hipster ghetto \\\n",
    "artisanal artist Y2K gritty folk bohemian grunge boho hippie \\\n",
    "alternative upcycled remade artsy club kids mod moschino Marques \\\n",
    "Almeida raw\"\n",
    "SIZE_OF_CHARACTERS_IN_A_ROW = 20\n",
    "\n",
    "size_of_chars = SIZE_OF_CHARACTERS_IN_A_ROW\n",
    "words= WORDS.split()\n",
    "\n",
    "def helper(_words):\n",
    "    \n",
    "    sums = {}\n",
    "    \n",
    "    for word in _words:\n",
    "        \n",
    "        _sums = sums.copy()\n",
    "        \n",
    "        for key in _sums.keys():\n",
    "            sentence = \"{} {}\".format(key, word)\n",
    "            \n",
    "            if len(sentence) > 20:\n",
    "                continue\n",
    "                \n",
    "            sums[sentence] = len(sentence)\n",
    "            \n",
    "        sums[word] = len(word)\n",
    "    \n",
    "    return sums\n",
    "\n",
    "while len(words) > 0:\n",
    "    sums = helper(words)\n",
    "    best_item = sorted(sums.items(), key=lambda item:item[1], reverse=True)[0]\n",
    "    print(best_item)\n",
    "    \n",
    "    removed_words = best_item[0].split()\n",
    "    for word in removed_words:\n",
    "        words.remove(word)"
   ]
  },
  {
   "cell_type": "code",
   "execution_count": null,
   "metadata": {},
   "outputs": [],
   "source": []
  }
 ],
 "metadata": {
  "kernelspec": {
   "display_name": "Python 3",
   "language": "python",
   "name": "python3"
  },
  "language_info": {
   "codemirror_mode": {
    "name": "ipython",
    "version": 3
   },
   "file_extension": ".py",
   "mimetype": "text/x-python",
   "name": "python",
   "nbconvert_exporter": "python",
   "pygments_lexer": "ipython3",
   "version": "3.7.7"
  }
 },
 "nbformat": 4,
 "nbformat_minor": 2
}
